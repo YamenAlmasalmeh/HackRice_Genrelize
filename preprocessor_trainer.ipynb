{
 "cells": [
  {
   "cell_type": "code",
   "execution_count": 1,
   "metadata": {},
   "outputs": [],
   "source": [
    "import pandas as pd\n",
    "import os\n",
    "import sys"
   ]
  },
  {
   "cell_type": "code",
   "execution_count": 2,
   "metadata": {},
   "outputs": [
    {
     "data": {
      "text/plain": [
       "'/home/gunny/Github/fastText'"
      ]
     },
     "execution_count": 2,
     "metadata": {},
     "output_type": "execute_result"
    }
   ],
   "source": [
    "os.getcwd()"
   ]
  },
  {
   "cell_type": "code",
   "execution_count": 54,
   "metadata": {},
   "outputs": [],
   "source": [
    "import numpy as np"
   ]
  },
  {
   "cell_type": "code",
   "execution_count": 50,
   "metadata": {},
   "outputs": [],
   "source": [
    "lines_names = [\"lineID\",\n",
    "                \"characterID\",\n",
    "                \"movieID\",\n",
    "                \"character\",\n",
    "                \"text\"]"
   ]
  },
  {
   "cell_type": "code",
   "execution_count": 51,
   "metadata": {},
   "outputs": [],
   "source": [
    "df_lines = pd.read_csv(\"data/movie_lines.tsv\", delimiter=\"\\t\", header=None, names=lines_names)"
   ]
  },
  {
   "cell_type": "code",
   "execution_count": 52,
   "metadata": {},
   "outputs": [
    {
     "data": {
      "text/plain": [
       "(293368, 5)"
      ]
     },
     "execution_count": 52,
     "metadata": {},
     "output_type": "execute_result"
    }
   ],
   "source": [
    "df_lines.shape"
   ]
  },
  {
   "cell_type": "code",
   "execution_count": 64,
   "metadata": {},
   "outputs": [
    {
     "data": {
      "text/plain": [
       "140643    Nice and easy now. Keep your hands where I can...\n",
       "248740    You're a hell of a boy Frank. Someday you're g...\n",
       "224486    Faith this guy you think is Mr. Right he's... ...\n",
       "40850                       No doubt Paul thinks it stinks.\n",
       "21048              Perhaps an hour perhaps a little longer.\n",
       "171904                               That's what we agreed.\n",
       "34289                                       Couldn't sleep.\n",
       "13226       What has happened madam to annoy your ladyship?\n",
       "285349                               I'm getting married...\n",
       "199548                                       Oh no -- _ 14.\n",
       "Name: text, dtype: object"
      ]
     },
     "execution_count": 64,
     "metadata": {},
     "output_type": "execute_result"
    }
   ],
   "source": [
    "df_lines.iloc[np.random.choice(df_lines.shape[0], 10)][\"text\"]"
   ]
  },
  {
   "cell_type": "code",
   "execution_count": 65,
   "metadata": {},
   "outputs": [],
   "source": [
    "titles_names = [\n",
    "    \"movieID\", \n",
    "    \"movie\",\n",
    "    \"year\", \n",
    "    \"rating\",\n",
    "    \"votes\",\n",
    "    \"genres\"\n",
    "]"
   ]
  },
  {
   "cell_type": "code",
   "execution_count": 66,
   "metadata": {},
   "outputs": [],
   "source": [
    "df_titles = pd.read_csv(\"data/movie_titles_metadata.tsv\", delimiter=\"\\t\", header=None, names=titles_names)"
   ]
  },
  {
   "cell_type": "code",
   "execution_count": 67,
   "metadata": {
    "scrolled": true
   },
   "outputs": [
    {
     "data": {
      "text/plain": [
       "(617, 6)"
      ]
     },
     "execution_count": 67,
     "metadata": {},
     "output_type": "execute_result"
    }
   ],
   "source": [
    "df_titles.shape"
   ]
  },
  {
   "cell_type": "code",
   "execution_count": 73,
   "metadata": {},
   "outputs": [
    {
     "data": {
      "text/html": [
       "<div>\n",
       "<style scoped>\n",
       "    .dataframe tbody tr th:only-of-type {\n",
       "        vertical-align: middle;\n",
       "    }\n",
       "\n",
       "    .dataframe tbody tr th {\n",
       "        vertical-align: top;\n",
       "    }\n",
       "\n",
       "    .dataframe thead th {\n",
       "        text-align: right;\n",
       "    }\n",
       "</style>\n",
       "<table border=\"1\" class=\"dataframe\">\n",
       "  <thead>\n",
       "    <tr style=\"text-align: right;\">\n",
       "      <th></th>\n",
       "      <th>movieID</th>\n",
       "      <th>movie</th>\n",
       "      <th>year</th>\n",
       "      <th>rating</th>\n",
       "      <th>votes</th>\n",
       "      <th>genres</th>\n",
       "    </tr>\n",
       "  </thead>\n",
       "  <tbody>\n",
       "    <tr>\n",
       "      <th>0</th>\n",
       "      <td>m0</td>\n",
       "      <td>10 things i hate about you</td>\n",
       "      <td>1999</td>\n",
       "      <td>6.9</td>\n",
       "      <td>62847.0</td>\n",
       "      <td>['comedy' 'romance']</td>\n",
       "    </tr>\n",
       "    <tr>\n",
       "      <th>1</th>\n",
       "      <td>m1</td>\n",
       "      <td>1492: conquest of paradise</td>\n",
       "      <td>1992</td>\n",
       "      <td>6.2</td>\n",
       "      <td>10421.0</td>\n",
       "      <td>['adventure' 'biography' 'drama' 'history']</td>\n",
       "    </tr>\n",
       "    <tr>\n",
       "      <th>2</th>\n",
       "      <td>m2</td>\n",
       "      <td>15 minutes</td>\n",
       "      <td>2001</td>\n",
       "      <td>6.1</td>\n",
       "      <td>25854.0</td>\n",
       "      <td>['action' 'crime' 'drama' 'thriller']</td>\n",
       "    </tr>\n",
       "    <tr>\n",
       "      <th>3</th>\n",
       "      <td>m3</td>\n",
       "      <td>2001: a space odyssey</td>\n",
       "      <td>1968</td>\n",
       "      <td>8.4</td>\n",
       "      <td>163227.0</td>\n",
       "      <td>['adventure' 'mystery' 'sci-fi']</td>\n",
       "    </tr>\n",
       "    <tr>\n",
       "      <th>4</th>\n",
       "      <td>m4</td>\n",
       "      <td>48 hrs.</td>\n",
       "      <td>1982</td>\n",
       "      <td>6.9</td>\n",
       "      <td>22289.0</td>\n",
       "      <td>['action' 'comedy' 'crime' 'drama' 'thriller']</td>\n",
       "    </tr>\n",
       "  </tbody>\n",
       "</table>\n",
       "</div>"
      ],
      "text/plain": [
       "  movieID                       movie  year  rating     votes  \\\n",
       "0      m0  10 things i hate about you  1999     6.9   62847.0   \n",
       "1      m1  1492: conquest of paradise  1992     6.2   10421.0   \n",
       "2      m2                  15 minutes  2001     6.1   25854.0   \n",
       "3      m3       2001: a space odyssey  1968     8.4  163227.0   \n",
       "4      m4                     48 hrs.  1982     6.9   22289.0   \n",
       "\n",
       "                                           genres  \n",
       "0                            ['comedy' 'romance']  \n",
       "1     ['adventure' 'biography' 'drama' 'history']  \n",
       "2           ['action' 'crime' 'drama' 'thriller']  \n",
       "3                ['adventure' 'mystery' 'sci-fi']  \n",
       "4  ['action' 'comedy' 'crime' 'drama' 'thriller']  "
      ]
     },
     "execution_count": 73,
     "metadata": {},
     "output_type": "execute_result"
    }
   ],
   "source": [
    "df_titles.head(5)"
   ]
  },
  {
   "cell_type": "code",
   "execution_count": 125,
   "metadata": {},
   "outputs": [],
   "source": [
    "df_titles[\"genres_collection\"] = df_titles[\"genres\"].apply(lambda x: [genre[1:-1] for genre in str(x)[1:-1].split(\" \")])"
   ]
  },
  {
   "cell_type": "code",
   "execution_count": 126,
   "metadata": {},
   "outputs": [],
   "source": [
    "s = df_titles[\"genres_collection\"].apply(pd.Series, 1).stack()"
   ]
  },
  {
   "cell_type": "code",
   "execution_count": 127,
   "metadata": {},
   "outputs": [],
   "source": [
    "s.index = s.index.droplevel(-1)"
   ]
  },
  {
   "cell_type": "code",
   "execution_count": 128,
   "metadata": {},
   "outputs": [
    {
     "data": {
      "text/plain": [
       "0       comedy\n",
       "0      romance\n",
       "1    adventure\n",
       "1    biography\n",
       "1        drama\n",
       "dtype: object"
      ]
     },
     "execution_count": 128,
     "metadata": {},
     "output_type": "execute_result"
    }
   ],
   "source": [
    "s.head()"
   ]
  },
  {
   "cell_type": "code",
   "execution_count": 129,
   "metadata": {},
   "outputs": [],
   "source": [
    "s.name = \"single_genre\""
   ]
  },
  {
   "cell_type": "code",
   "execution_count": 130,
   "metadata": {},
   "outputs": [],
   "source": [
    "df_titlesbygenre = df_titles.join(s)"
   ]
  },
  {
   "cell_type": "code",
   "execution_count": 140,
   "metadata": {},
   "outputs": [
    {
     "data": {
      "text/plain": [
       "(1870, 8)"
      ]
     },
     "execution_count": 140,
     "metadata": {},
     "output_type": "execute_result"
    }
   ],
   "source": [
    "df_titlesbygenre.shape"
   ]
  },
  {
   "cell_type": "code",
   "execution_count": 135,
   "metadata": {},
   "outputs": [],
   "source": [
    "popular_genres = df_titlesbygenre.groupby('single_genre')[\"movieID\"].count().sort_values()\n",
    "use_genres = popular_genres.index[-11:].tolist()"
   ]
  },
  {
   "cell_type": "code",
   "execution_count": 201,
   "metadata": {},
   "outputs": [],
   "source": [
    "unwanted_genres = popular_genres.index[:popular_genres.shape[0]-11].tolist()"
   ]
  },
  {
   "cell_type": "code",
   "execution_count": 202,
   "metadata": {},
   "outputs": [
    {
     "data": {
      "text/plain": [
       "['adult',\n",
       " '',\n",
       " 'documentary',\n",
       " 'film-noir',\n",
       " 'short',\n",
       " 'sport',\n",
       " 'musical',\n",
       " 'western',\n",
       " 'music',\n",
       " 'family',\n",
       " 'animation',\n",
       " 'history',\n",
       " 'war',\n",
       " 'biography']"
      ]
     },
     "execution_count": 202,
     "metadata": {},
     "output_type": "execute_result"
    }
   ],
   "source": [
    "unwanted_genres"
   ]
  },
  {
   "cell_type": "code",
   "execution_count": 147,
   "metadata": {},
   "outputs": [
    {
     "data": {
      "text/plain": [
       "single_genre\n",
       "adult            1\n",
       "                 2\n",
       "documentary      3\n",
       "film-noir        4\n",
       "short            5\n",
       "sport            8\n",
       "musical          8\n",
       "western         12\n",
       "music           13\n",
       "family          17\n",
       "animation       18\n",
       "history         21\n",
       "war             23\n",
       "biography       25\n",
       "fantasy         78\n",
       "horror          99\n",
       "mystery        101\n",
       "adventure      116\n",
       "sci-fi         120\n",
       "romance        132\n",
       "crime          146\n",
       "comedy         162\n",
       "action         168\n",
       "thriller       269\n",
       "drama          319\n",
       "Name: movieID, dtype: int64"
      ]
     },
     "execution_count": 147,
     "metadata": {},
     "output_type": "execute_result"
    }
   ],
   "source": [
    "popular_genres"
   ]
  },
  {
   "cell_type": "code",
   "execution_count": 136,
   "metadata": {},
   "outputs": [
    {
     "data": {
      "text/plain": [
       "['fantasy',\n",
       " 'horror',\n",
       " 'mystery',\n",
       " 'adventure',\n",
       " 'sci-fi',\n",
       " 'romance',\n",
       " 'crime',\n",
       " 'comedy',\n",
       " 'action',\n",
       " 'thriller',\n",
       " 'drama']"
      ]
     },
     "execution_count": 136,
     "metadata": {},
     "output_type": "execute_result"
    }
   ],
   "source": [
    "use_genres"
   ]
  },
  {
   "cell_type": "code",
   "execution_count": 142,
   "metadata": {},
   "outputs": [],
   "source": [
    "use_finder = df_titlesbygenre[\"single_genre\"].apply(lambda x: x in use_genres)\n",
    "df_usebygenre = df_titlesbygenre.loc[use_finder]"
   ]
  },
  {
   "cell_type": "code",
   "execution_count": 253,
   "metadata": {},
   "outputs": [
    {
     "data": {
      "text/html": [
       "<div>\n",
       "<style scoped>\n",
       "    .dataframe tbody tr th:only-of-type {\n",
       "        vertical-align: middle;\n",
       "    }\n",
       "\n",
       "    .dataframe tbody tr th {\n",
       "        vertical-align: top;\n",
       "    }\n",
       "\n",
       "    .dataframe thead th {\n",
       "        text-align: right;\n",
       "    }\n",
       "</style>\n",
       "<table border=\"1\" class=\"dataframe\">\n",
       "  <thead>\n",
       "    <tr style=\"text-align: right;\">\n",
       "      <th></th>\n",
       "      <th>movieID</th>\n",
       "      <th>movie</th>\n",
       "      <th>year</th>\n",
       "      <th>rating</th>\n",
       "      <th>votes</th>\n",
       "      <th>genres</th>\n",
       "      <th>genres_collection</th>\n",
       "      <th>single_genre</th>\n",
       "    </tr>\n",
       "  </thead>\n",
       "  <tbody>\n",
       "    <tr>\n",
       "      <th>0</th>\n",
       "      <td>m0</td>\n",
       "      <td>10 things i hate about you</td>\n",
       "      <td>1999</td>\n",
       "      <td>6.9</td>\n",
       "      <td>62847.0</td>\n",
       "      <td>['comedy' 'romance']</td>\n",
       "      <td>[comedy, romance]</td>\n",
       "      <td>comedy</td>\n",
       "    </tr>\n",
       "    <tr>\n",
       "      <th>0</th>\n",
       "      <td>m0</td>\n",
       "      <td>10 things i hate about you</td>\n",
       "      <td>1999</td>\n",
       "      <td>6.9</td>\n",
       "      <td>62847.0</td>\n",
       "      <td>['comedy' 'romance']</td>\n",
       "      <td>[comedy, romance]</td>\n",
       "      <td>romance</td>\n",
       "    </tr>\n",
       "    <tr>\n",
       "      <th>1</th>\n",
       "      <td>m1</td>\n",
       "      <td>1492: conquest of paradise</td>\n",
       "      <td>1992</td>\n",
       "      <td>6.2</td>\n",
       "      <td>10421.0</td>\n",
       "      <td>['adventure' 'biography' 'drama' 'history']</td>\n",
       "      <td>[adventure, drama]</td>\n",
       "      <td>adventure</td>\n",
       "    </tr>\n",
       "    <tr>\n",
       "      <th>1</th>\n",
       "      <td>m1</td>\n",
       "      <td>1492: conquest of paradise</td>\n",
       "      <td>1992</td>\n",
       "      <td>6.2</td>\n",
       "      <td>10421.0</td>\n",
       "      <td>['adventure' 'biography' 'drama' 'history']</td>\n",
       "      <td>[adventure, drama]</td>\n",
       "      <td>drama</td>\n",
       "    </tr>\n",
       "    <tr>\n",
       "      <th>2</th>\n",
       "      <td>m2</td>\n",
       "      <td>15 minutes</td>\n",
       "      <td>2001</td>\n",
       "      <td>6.1</td>\n",
       "      <td>25854.0</td>\n",
       "      <td>['action' 'crime' 'drama' 'thriller']</td>\n",
       "      <td>[action, crime, drama, thriller]</td>\n",
       "      <td>action</td>\n",
       "    </tr>\n",
       "  </tbody>\n",
       "</table>\n",
       "</div>"
      ],
      "text/plain": [
       "  movieID                       movie  year  rating    votes  \\\n",
       "0      m0  10 things i hate about you  1999     6.9  62847.0   \n",
       "0      m0  10 things i hate about you  1999     6.9  62847.0   \n",
       "1      m1  1492: conquest of paradise  1992     6.2  10421.0   \n",
       "1      m1  1492: conquest of paradise  1992     6.2  10421.0   \n",
       "2      m2                  15 minutes  2001     6.1  25854.0   \n",
       "\n",
       "                                        genres  \\\n",
       "0                         ['comedy' 'romance']   \n",
       "0                         ['comedy' 'romance']   \n",
       "1  ['adventure' 'biography' 'drama' 'history']   \n",
       "1  ['adventure' 'biography' 'drama' 'history']   \n",
       "2        ['action' 'crime' 'drama' 'thriller']   \n",
       "\n",
       "                  genres_collection single_genre  \n",
       "0                 [comedy, romance]       comedy  \n",
       "0                 [comedy, romance]      romance  \n",
       "1                [adventure, drama]    adventure  \n",
       "1                [adventure, drama]        drama  \n",
       "2  [action, crime, drama, thriller]       action  "
      ]
     },
     "execution_count": 253,
     "metadata": {},
     "output_type": "execute_result"
    }
   ],
   "source": [
    "df_usebygenre.head()"
   ]
  },
  {
   "cell_type": "code",
   "execution_count": 143,
   "metadata": {},
   "outputs": [],
   "source": [
    "all_genres = df_usebygenre[\"single_genre\"].unique()"
   ]
  },
  {
   "cell_type": "code",
   "execution_count": 104,
   "metadata": {},
   "outputs": [],
   "source": [
    "all_genres = np.delete(all_genres, np.where(np.logical_or(all_genres == 'a', all_genres == '')))"
   ]
  },
  {
   "cell_type": "code",
   "execution_count": 144,
   "metadata": {},
   "outputs": [
    {
     "data": {
      "text/plain": [
       "array(['comedy', 'romance', 'adventure', 'drama', 'action', 'crime',\n",
       "       'thriller', 'mystery', 'sci-fi', 'fantasy', 'horror'], dtype=object)"
      ]
     },
     "execution_count": 144,
     "metadata": {},
     "output_type": "execute_result"
    }
   ],
   "source": [
    "all_genres"
   ]
  },
  {
   "cell_type": "code",
   "execution_count": 145,
   "metadata": {},
   "outputs": [],
   "source": [
    "genre_map = {i: genre for i, genre in enumerate(all_genres)}"
   ]
  },
  {
   "cell_type": "code",
   "execution_count": 146,
   "metadata": {},
   "outputs": [
    {
     "data": {
      "text/plain": [
       "{0: 'comedy',\n",
       " 1: 'romance',\n",
       " 2: 'adventure',\n",
       " 3: 'drama',\n",
       " 4: 'action',\n",
       " 5: 'crime',\n",
       " 6: 'thriller',\n",
       " 7: 'mystery',\n",
       " 8: 'sci-fi',\n",
       " 9: 'fantasy',\n",
       " 10: 'horror'}"
      ]
     },
     "execution_count": 146,
     "metadata": {},
     "output_type": "execute_result"
    }
   ],
   "source": [
    "genre_map"
   ]
  },
  {
   "cell_type": "code",
   "execution_count": 234,
   "metadata": {},
   "outputs": [
    {
     "data": {
      "text/plain": [
       "{'comedy': 0,\n",
       " 'romance': 1,\n",
       " 'adventure': 2,\n",
       " 'drama': 3,\n",
       " 'action': 4,\n",
       " 'crime': 5,\n",
       " 'thriller': 6,\n",
       " 'mystery': 7,\n",
       " 'sci-fi': 8,\n",
       " 'fantasy': 9,\n",
       " 'horror': 10}"
      ]
     },
     "execution_count": 234,
     "metadata": {},
     "output_type": "execute_result"
    }
   ],
   "source": [
    "rev_genre_map = {genre: i for i, genre in enumerate(all_genres)}\n",
    "rev_genre_map"
   ]
  },
  {
   "cell_type": "code",
   "execution_count": 150,
   "metadata": {},
   "outputs": [],
   "source": [
    "df_linesbygenre = df_lines[[\"movieID\", \"text\"]].merge(df_usebygenre[[\"movieID\", \"single_genre\"]], on=\"movieID\", how=\"inner\")"
   ]
  },
  {
   "cell_type": "code",
   "execution_count": 164,
   "metadata": {},
   "outputs": [
    {
     "data": {
      "text/plain": [
       "985"
      ]
     },
     "execution_count": 164,
     "metadata": {},
     "output_type": "execute_result"
    }
   ],
   "source": [
    "# note: there are missing values for text\n",
    "df_linesbygenre[\"text\"].isnull().sum()"
   ]
  },
  {
   "cell_type": "code",
   "execution_count": 165,
   "metadata": {},
   "outputs": [
    {
     "data": {
      "text/plain": [
       "movieID    787872\n",
       "text       786887\n",
       "dtype: int64"
      ]
     },
     "execution_count": 165,
     "metadata": {},
     "output_type": "execute_result"
    }
   ],
   "source": [
    "df_linesbygenre.groupby(\"single_genre\").count().sort_values(\"text\").sum()"
   ]
  },
  {
   "cell_type": "code",
   "execution_count": 176,
   "metadata": {},
   "outputs": [
    {
     "data": {
      "text/plain": [
       "(288823, 5)"
      ]
     },
     "execution_count": 176,
     "metadata": {},
     "output_type": "execute_result"
    }
   ],
   "source": [
    "df_lines = df_lines.loc[df_lines[\"text\"].notnull()]\n",
    "df_lines.shape\n",
    "# with missing text lines removed"
   ]
  },
  {
   "cell_type": "code",
   "execution_count": 171,
   "metadata": {},
   "outputs": [
    {
     "data": {
      "text/plain": [
       "(293368, 5)"
      ]
     },
     "execution_count": 171,
     "metadata": {},
     "output_type": "execute_result"
    }
   ],
   "source": [
    "df_lines.shape"
   ]
  },
  {
   "cell_type": "markdown",
   "metadata": {},
   "source": [
    "## Training, testing set construction"
   ]
  },
  {
   "cell_type": "code",
   "execution_count": 177,
   "metadata": {},
   "outputs": [
    {
     "data": {
      "text/html": [
       "<div>\n",
       "<style scoped>\n",
       "    .dataframe tbody tr th:only-of-type {\n",
       "        vertical-align: middle;\n",
       "    }\n",
       "\n",
       "    .dataframe tbody tr th {\n",
       "        vertical-align: top;\n",
       "    }\n",
       "\n",
       "    .dataframe thead th {\n",
       "        text-align: right;\n",
       "    }\n",
       "</style>\n",
       "<table border=\"1\" class=\"dataframe\">\n",
       "  <thead>\n",
       "    <tr style=\"text-align: right;\">\n",
       "      <th></th>\n",
       "      <th>lineID</th>\n",
       "      <th>characterID</th>\n",
       "      <th>movieID</th>\n",
       "      <th>character</th>\n",
       "      <th>text</th>\n",
       "    </tr>\n",
       "  </thead>\n",
       "  <tbody>\n",
       "    <tr>\n",
       "      <th>0</th>\n",
       "      <td>L1045</td>\n",
       "      <td>u0</td>\n",
       "      <td>m0</td>\n",
       "      <td>BIANCA</td>\n",
       "      <td>They do not!</td>\n",
       "    </tr>\n",
       "    <tr>\n",
       "      <th>1</th>\n",
       "      <td>L1044</td>\n",
       "      <td>u2</td>\n",
       "      <td>m0</td>\n",
       "      <td>CAMERON</td>\n",
       "      <td>They do to!</td>\n",
       "    </tr>\n",
       "    <tr>\n",
       "      <th>2</th>\n",
       "      <td>L985</td>\n",
       "      <td>u0</td>\n",
       "      <td>m0</td>\n",
       "      <td>BIANCA</td>\n",
       "      <td>I hope so.</td>\n",
       "    </tr>\n",
       "    <tr>\n",
       "      <th>3</th>\n",
       "      <td>L984</td>\n",
       "      <td>u2</td>\n",
       "      <td>m0</td>\n",
       "      <td>CAMERON</td>\n",
       "      <td>She okay?</td>\n",
       "    </tr>\n",
       "    <tr>\n",
       "      <th>4</th>\n",
       "      <td>L925</td>\n",
       "      <td>u0</td>\n",
       "      <td>m0</td>\n",
       "      <td>BIANCA</td>\n",
       "      <td>Let's go.</td>\n",
       "    </tr>\n",
       "  </tbody>\n",
       "</table>\n",
       "</div>"
      ],
      "text/plain": [
       "  lineID characterID movieID character          text\n",
       "0  L1045          u0      m0    BIANCA  They do not!\n",
       "1  L1044          u2      m0   CAMERON   They do to!\n",
       "2   L985          u0      m0    BIANCA    I hope so.\n",
       "3   L984          u2      m0   CAMERON     She okay?\n",
       "4   L925          u0      m0    BIANCA     Let's go."
      ]
     },
     "execution_count": 177,
     "metadata": {},
     "output_type": "execute_result"
    }
   ],
   "source": []
  },
  {
   "cell_type": "code",
   "execution_count": null,
   "metadata": {},
   "outputs": [],
   "source": []
  },
  {
   "cell_type": "code",
   "execution_count": 193,
   "metadata": {},
   "outputs": [],
   "source": [
    "use_genres_set = set(use_genres)\n",
    "genres_filter = df_titles[\"genres_collection\"].apply(lambda x: True if len(set(x).difference(set(x).intersection(use_genres_set))) == 0 else False)"
   ]
  },
  {
   "cell_type": "code",
   "execution_count": 197,
   "metadata": {},
   "outputs": [
    {
     "data": {
      "text/plain": [
       "492"
      ]
     },
     "execution_count": 197,
     "metadata": {},
     "output_type": "execute_result"
    }
   ],
   "source": [
    "genres_filter.sum()\n",
    "# not good to deselect film titles with ANY unwanted genre"
   ]
  },
  {
   "cell_type": "code",
   "execution_count": 195,
   "metadata": {},
   "outputs": [
    {
     "data": {
      "text/plain": [
       "(617, 8)"
      ]
     },
     "execution_count": 195,
     "metadata": {},
     "output_type": "execute_result"
    }
   ],
   "source": [
    "df_titles.shape"
   ]
  },
  {
   "cell_type": "code",
   "execution_count": 206,
   "metadata": {},
   "outputs": [],
   "source": [
    "def safe_remove(x: list, unwanted: list):\n",
    "    for elem in unwanted:\n",
    "        if elem in x:\n",
    "            x.remove(elem)\n",
    "    return x"
   ]
  },
  {
   "cell_type": "code",
   "execution_count": 231,
   "metadata": {},
   "outputs": [],
   "source": [
    "df_titles[\"wanted_genres\"] = df_titles[\"genres_collection\"].apply(lambda x: safe_remove(x, unwanted_genres))"
   ]
  },
  {
   "cell_type": "code",
   "execution_count": 232,
   "metadata": {},
   "outputs": [
    {
     "data": {
      "text/plain": [
       "0"
      ]
     },
     "execution_count": 232,
     "metadata": {},
     "output_type": "execute_result"
    }
   ],
   "source": [
    "df_titles[\"wanted_genres\"].apply(lambda x: 1 if len(set(x).intersection(set(unwanted_genres))) > 0 else 0).sum()"
   ]
  },
  {
   "cell_type": "code",
   "execution_count": 246,
   "metadata": {},
   "outputs": [],
   "source": [
    "df_titles[\"genres_label\"] = df_titles[\"wanted_genres\"].apply(lambda x: \",\".join([\"__label__\" + str(rev_genre_map[genre]) for genre in x]))"
   ]
  },
  {
   "cell_type": "code",
   "execution_count": 247,
   "metadata": {},
   "outputs": [],
   "source": [
    "df_set = df_titles[[\"genres_label\", \"movieID\"]].merge(df_lines[[\"movieID\", \"text\"]], on=\"movieID\", how=\"inner\")"
   ]
  },
  {
   "cell_type": "code",
   "execution_count": 248,
   "metadata": {},
   "outputs": [],
   "source": [
    "del df_set[\"movieID\"]"
   ]
  },
  {
   "cell_type": "code",
   "execution_count": 249,
   "metadata": {},
   "outputs": [
    {
     "data": {
      "text/html": [
       "<div>\n",
       "<style scoped>\n",
       "    .dataframe tbody tr th:only-of-type {\n",
       "        vertical-align: middle;\n",
       "    }\n",
       "\n",
       "    .dataframe tbody tr th {\n",
       "        vertical-align: top;\n",
       "    }\n",
       "\n",
       "    .dataframe thead th {\n",
       "        text-align: right;\n",
       "    }\n",
       "</style>\n",
       "<table border=\"1\" class=\"dataframe\">\n",
       "  <thead>\n",
       "    <tr style=\"text-align: right;\">\n",
       "      <th></th>\n",
       "      <th>genres_label</th>\n",
       "      <th>text</th>\n",
       "    </tr>\n",
       "  </thead>\n",
       "  <tbody>\n",
       "    <tr>\n",
       "      <th>0</th>\n",
       "      <td>__label__0,__label__1</td>\n",
       "      <td>They do not!</td>\n",
       "    </tr>\n",
       "    <tr>\n",
       "      <th>1</th>\n",
       "      <td>__label__0,__label__1</td>\n",
       "      <td>They do to!</td>\n",
       "    </tr>\n",
       "    <tr>\n",
       "      <th>2</th>\n",
       "      <td>__label__0,__label__1</td>\n",
       "      <td>I hope so.</td>\n",
       "    </tr>\n",
       "    <tr>\n",
       "      <th>3</th>\n",
       "      <td>__label__0,__label__1</td>\n",
       "      <td>She okay?</td>\n",
       "    </tr>\n",
       "    <tr>\n",
       "      <th>4</th>\n",
       "      <td>__label__0,__label__1</td>\n",
       "      <td>Let's go.</td>\n",
       "    </tr>\n",
       "  </tbody>\n",
       "</table>\n",
       "</div>"
      ],
      "text/plain": [
       "            genres_label          text\n",
       "0  __label__0,__label__1  They do not!\n",
       "1  __label__0,__label__1   They do to!\n",
       "2  __label__0,__label__1    I hope so.\n",
       "3  __label__0,__label__1     She okay?\n",
       "4  __label__0,__label__1     Let's go."
      ]
     },
     "execution_count": 249,
     "metadata": {},
     "output_type": "execute_result"
    }
   ],
   "source": [
    "df_set.head()"
   ]
  },
  {
   "cell_type": "code",
   "execution_count": 250,
   "metadata": {},
   "outputs": [
    {
     "data": {
      "text/plain": [
       "(288353, 2)"
      ]
     },
     "execution_count": 250,
     "metadata": {},
     "output_type": "execute_result"
    }
   ],
   "source": [
    "df_set.shape"
   ]
  },
  {
   "cell_type": "code",
   "execution_count": 334,
   "metadata": {},
   "outputs": [],
   "source": [
    "df_set[\"genres_list\"] = df_set[\"genres_label\"].apply(lambda x: x.split(\",\"))\n",
    "df_set[\"label\"] = df_set[\"genres_list\"].apply(lambda x: x[int(np.random.choice(len(x), 1))])"
   ]
  },
  {
   "cell_type": "code",
   "execution_count": 335,
   "metadata": {},
   "outputs": [
    {
     "data": {
      "text/html": [
       "<div>\n",
       "<style scoped>\n",
       "    .dataframe tbody tr th:only-of-type {\n",
       "        vertical-align: middle;\n",
       "    }\n",
       "\n",
       "    .dataframe tbody tr th {\n",
       "        vertical-align: top;\n",
       "    }\n",
       "\n",
       "    .dataframe thead th {\n",
       "        text-align: right;\n",
       "    }\n",
       "</style>\n",
       "<table border=\"1\" class=\"dataframe\">\n",
       "  <thead>\n",
       "    <tr style=\"text-align: right;\">\n",
       "      <th></th>\n",
       "      <th>genres_label</th>\n",
       "      <th>text</th>\n",
       "      <th>genres_list</th>\n",
       "      <th>label</th>\n",
       "    </tr>\n",
       "  </thead>\n",
       "  <tbody>\n",
       "    <tr>\n",
       "      <th>11928</th>\n",
       "      <td>__label__4,__label__5,__label__3,__label__7,__...</td>\n",
       "      <td>Sorry I hit Jackson.</td>\n",
       "      <td>[__label__4, __label__5, __label__3, __label__...</td>\n",
       "      <td>__label__3</td>\n",
       "    </tr>\n",
       "    <tr>\n",
       "      <th>123704</th>\n",
       "      <td>__label__4,__label__6,__label__5</td>\n",
       "      <td>Yeah that's it.  And he's like a fucking geniu...</td>\n",
       "      <td>[__label__4, __label__6, __label__5]</td>\n",
       "      <td>__label__5</td>\n",
       "    </tr>\n",
       "    <tr>\n",
       "      <th>112555</th>\n",
       "      <td>__label__3</td>\n",
       "      <td>See anything interesting?</td>\n",
       "      <td>[__label__3]</td>\n",
       "      <td>__label__3</td>\n",
       "    </tr>\n",
       "    <tr>\n",
       "      <th>163638</th>\n",
       "      <td>__label__0</td>\n",
       "      <td>Welcome to work Ed.</td>\n",
       "      <td>[__label__0]</td>\n",
       "      <td>__label__0</td>\n",
       "    </tr>\n",
       "    <tr>\n",
       "      <th>199400</th>\n",
       "      <td>__label__3</td>\n",
       "      <td>We did not.</td>\n",
       "      <td>[__label__3]</td>\n",
       "      <td>__label__3</td>\n",
       "    </tr>\n",
       "    <tr>\n",
       "      <th>254195</th>\n",
       "      <td>__label__0,__label__3</td>\n",
       "      <td>I just started it.</td>\n",
       "      <td>[__label__0, __label__3]</td>\n",
       "      <td>__label__0</td>\n",
       "    </tr>\n",
       "    <tr>\n",
       "      <th>40439</th>\n",
       "      <td>__label__3</td>\n",
       "      <td>She left you right?</td>\n",
       "      <td>[__label__3]</td>\n",
       "      <td>__label__3</td>\n",
       "    </tr>\n",
       "    <tr>\n",
       "      <th>40985</th>\n",
       "      <td>__label__0,__label__1</td>\n",
       "      <td>Scared? Swimming underwater with that oxygen d...</td>\n",
       "      <td>[__label__0, __label__1]</td>\n",
       "      <td>__label__0</td>\n",
       "    </tr>\n",
       "    <tr>\n",
       "      <th>235854</th>\n",
       "      <td>__label__5,__label__3,__label__7,__label__6</td>\n",
       "      <td>Hey check it out...</td>\n",
       "      <td>[__label__5, __label__3, __label__7, __label__6]</td>\n",
       "      <td>__label__6</td>\n",
       "    </tr>\n",
       "    <tr>\n",
       "      <th>242881</th>\n",
       "      <td>__label__0,__label__5</td>\n",
       "      <td>No. HEY -- HE KNOWS THAT YOU BEEN CREATING NOW...</td>\n",
       "      <td>[__label__0, __label__5]</td>\n",
       "      <td>__label__0</td>\n",
       "    </tr>\n",
       "  </tbody>\n",
       "</table>\n",
       "</div>"
      ],
      "text/plain": [
       "                                             genres_label  \\\n",
       "11928   __label__4,__label__5,__label__3,__label__7,__...   \n",
       "123704                   __label__4,__label__6,__label__5   \n",
       "112555                                         __label__3   \n",
       "163638                                         __label__0   \n",
       "199400                                         __label__3   \n",
       "254195                              __label__0,__label__3   \n",
       "40439                                          __label__3   \n",
       "40985                               __label__0,__label__1   \n",
       "235854        __label__5,__label__3,__label__7,__label__6   \n",
       "242881                              __label__0,__label__5   \n",
       "\n",
       "                                                     text  \\\n",
       "11928                                Sorry I hit Jackson.   \n",
       "123704  Yeah that's it.  And he's like a fucking geniu...   \n",
       "112555                          See anything interesting?   \n",
       "163638                                Welcome to work Ed.   \n",
       "199400                                        We did not.   \n",
       "254195                                 I just started it.   \n",
       "40439                                 She left you right?   \n",
       "40985   Scared? Swimming underwater with that oxygen d...   \n",
       "235854                                Hey check it out...   \n",
       "242881  No. HEY -- HE KNOWS THAT YOU BEEN CREATING NOW...   \n",
       "\n",
       "                                              genres_list       label  \n",
       "11928   [__label__4, __label__5, __label__3, __label__...  __label__3  \n",
       "123704               [__label__4, __label__6, __label__5]  __label__5  \n",
       "112555                                       [__label__3]  __label__3  \n",
       "163638                                       [__label__0]  __label__0  \n",
       "199400                                       [__label__3]  __label__3  \n",
       "254195                           [__label__0, __label__3]  __label__0  \n",
       "40439                                        [__label__3]  __label__3  \n",
       "40985                            [__label__0, __label__1]  __label__0  \n",
       "235854   [__label__5, __label__3, __label__7, __label__6]  __label__6  \n",
       "242881                           [__label__0, __label__5]  __label__0  "
      ]
     },
     "execution_count": 335,
     "metadata": {},
     "output_type": "execute_result"
    }
   ],
   "source": [
    "df_set.iloc[np.random.choice(df_set.shape[0], 10)]"
   ]
  },
  {
   "cell_type": "code",
   "execution_count": 336,
   "metadata": {},
   "outputs": [
    {
     "data": {
      "text/html": [
       "<div>\n",
       "<style scoped>\n",
       "    .dataframe tbody tr th:only-of-type {\n",
       "        vertical-align: middle;\n",
       "    }\n",
       "\n",
       "    .dataframe tbody tr th {\n",
       "        vertical-align: top;\n",
       "    }\n",
       "\n",
       "    .dataframe thead th {\n",
       "        text-align: right;\n",
       "    }\n",
       "</style>\n",
       "<table border=\"1\" class=\"dataframe\">\n",
       "  <thead>\n",
       "    <tr style=\"text-align: right;\">\n",
       "      <th></th>\n",
       "      <th>genres_label</th>\n",
       "      <th>text</th>\n",
       "      <th>genres_list</th>\n",
       "    </tr>\n",
       "    <tr>\n",
       "      <th>label</th>\n",
       "      <th></th>\n",
       "      <th></th>\n",
       "      <th></th>\n",
       "    </tr>\n",
       "  </thead>\n",
       "  <tbody>\n",
       "    <tr>\n",
       "      <th></th>\n",
       "      <td>1625</td>\n",
       "      <td>1625</td>\n",
       "      <td>1625</td>\n",
       "    </tr>\n",
       "    <tr>\n",
       "      <th>__label__0</th>\n",
       "      <td>38690</td>\n",
       "      <td>38690</td>\n",
       "      <td>38690</td>\n",
       "    </tr>\n",
       "    <tr>\n",
       "      <th>__label__1</th>\n",
       "      <td>28236</td>\n",
       "      <td>28236</td>\n",
       "      <td>28236</td>\n",
       "    </tr>\n",
       "    <tr>\n",
       "      <th>__label__10</th>\n",
       "      <td>12372</td>\n",
       "      <td>12372</td>\n",
       "      <td>12372</td>\n",
       "    </tr>\n",
       "    <tr>\n",
       "      <th>__label__2</th>\n",
       "      <td>12869</td>\n",
       "      <td>12869</td>\n",
       "      <td>12869</td>\n",
       "    </tr>\n",
       "    <tr>\n",
       "      <th>__label__3</th>\n",
       "      <td>80008</td>\n",
       "      <td>80008</td>\n",
       "      <td>80008</td>\n",
       "    </tr>\n",
       "    <tr>\n",
       "      <th>__label__4</th>\n",
       "      <td>19686</td>\n",
       "      <td>19686</td>\n",
       "      <td>19686</td>\n",
       "    </tr>\n",
       "    <tr>\n",
       "      <th>__label__5</th>\n",
       "      <td>21853</td>\n",
       "      <td>21853</td>\n",
       "      <td>21853</td>\n",
       "    </tr>\n",
       "    <tr>\n",
       "      <th>__label__6</th>\n",
       "      <td>38486</td>\n",
       "      <td>38486</td>\n",
       "      <td>38486</td>\n",
       "    </tr>\n",
       "    <tr>\n",
       "      <th>__label__7</th>\n",
       "      <td>13509</td>\n",
       "      <td>13509</td>\n",
       "      <td>13509</td>\n",
       "    </tr>\n",
       "    <tr>\n",
       "      <th>__label__8</th>\n",
       "      <td>12486</td>\n",
       "      <td>12486</td>\n",
       "      <td>12486</td>\n",
       "    </tr>\n",
       "    <tr>\n",
       "      <th>__label__9</th>\n",
       "      <td>8533</td>\n",
       "      <td>8533</td>\n",
       "      <td>8533</td>\n",
       "    </tr>\n",
       "  </tbody>\n",
       "</table>\n",
       "</div>"
      ],
      "text/plain": [
       "             genres_label   text  genres_list\n",
       "label                                        \n",
       "                     1625   1625         1625\n",
       "__label__0          38690  38690        38690\n",
       "__label__1          28236  28236        28236\n",
       "__label__10         12372  12372        12372\n",
       "__label__2          12869  12869        12869\n",
       "__label__3          80008  80008        80008\n",
       "__label__4          19686  19686        19686\n",
       "__label__5          21853  21853        21853\n",
       "__label__6          38486  38486        38486\n",
       "__label__7          13509  13509        13509\n",
       "__label__8          12486  12486        12486\n",
       "__label__9           8533   8533         8533"
      ]
     },
     "execution_count": 336,
     "metadata": {},
     "output_type": "execute_result"
    }
   ],
   "source": [
    "df_set.groupby(\"label\").count()"
   ]
  },
  {
   "cell_type": "code",
   "execution_count": 337,
   "metadata": {},
   "outputs": [],
   "source": [
    "_df_set = df_set[[\"label\", \"text\"]]"
   ]
  },
  {
   "cell_type": "code",
   "execution_count": null,
   "metadata": {},
   "outputs": [],
   "source": []
  },
  {
   "cell_type": "code",
   "execution_count": 255,
   "metadata": {},
   "outputs": [
    {
     "data": {
      "text/plain": [
       "0"
      ]
     },
     "execution_count": 255,
     "metadata": {},
     "output_type": "execute_result"
    }
   ],
   "source": [
    "df_usebygenre[\"single_genre\"].apply(lambda x: x not in use_genres).sum()"
   ]
  },
  {
   "cell_type": "code",
   "execution_count": 270,
   "metadata": {},
   "outputs": [
    {
     "name": "stderr",
     "output_type": "stream",
     "text": [
      "/home/gunny/anaconda3/lib/python3.6/site-packages/ipykernel_launcher.py:1: SettingWithCopyWarning: \n",
      "A value is trying to be set on a copy of a slice from a DataFrame.\n",
      "Try using .loc[row_indexer,col_indexer] = value instead\n",
      "\n",
      "See the caveats in the documentation: http://pandas.pydata.org/pandas-docs/stable/indexing.html#indexing-view-versus-copy\n",
      "  \"\"\"Entry point for launching an IPython kernel.\n"
     ]
    }
   ],
   "source": [
    "df_usebygenre[\"genres_label\"] = df_usebygenre[\"single_genre\"].apply(lambda x: \"__label__\" + str(rev_genre_map[x]))"
   ]
  },
  {
   "cell_type": "code",
   "execution_count": 271,
   "metadata": {},
   "outputs": [
    {
     "data": {
      "text/html": [
       "<div>\n",
       "<style scoped>\n",
       "    .dataframe tbody tr th:only-of-type {\n",
       "        vertical-align: middle;\n",
       "    }\n",
       "\n",
       "    .dataframe tbody tr th {\n",
       "        vertical-align: top;\n",
       "    }\n",
       "\n",
       "    .dataframe thead th {\n",
       "        text-align: right;\n",
       "    }\n",
       "</style>\n",
       "<table border=\"1\" class=\"dataframe\">\n",
       "  <thead>\n",
       "    <tr style=\"text-align: right;\">\n",
       "      <th></th>\n",
       "      <th>movieID</th>\n",
       "      <th>movie</th>\n",
       "      <th>year</th>\n",
       "      <th>rating</th>\n",
       "      <th>votes</th>\n",
       "      <th>genres</th>\n",
       "      <th>genres_collection</th>\n",
       "      <th>single_genre</th>\n",
       "      <th>genres_label</th>\n",
       "    </tr>\n",
       "  </thead>\n",
       "  <tbody>\n",
       "    <tr>\n",
       "      <th>0</th>\n",
       "      <td>m0</td>\n",
       "      <td>10 things i hate about you</td>\n",
       "      <td>1999</td>\n",
       "      <td>6.9</td>\n",
       "      <td>62847.0</td>\n",
       "      <td>['comedy' 'romance']</td>\n",
       "      <td>[comedy, romance]</td>\n",
       "      <td>comedy</td>\n",
       "      <td>__label__0</td>\n",
       "    </tr>\n",
       "    <tr>\n",
       "      <th>0</th>\n",
       "      <td>m0</td>\n",
       "      <td>10 things i hate about you</td>\n",
       "      <td>1999</td>\n",
       "      <td>6.9</td>\n",
       "      <td>62847.0</td>\n",
       "      <td>['comedy' 'romance']</td>\n",
       "      <td>[comedy, romance]</td>\n",
       "      <td>romance</td>\n",
       "      <td>__label__1</td>\n",
       "    </tr>\n",
       "    <tr>\n",
       "      <th>1</th>\n",
       "      <td>m1</td>\n",
       "      <td>1492: conquest of paradise</td>\n",
       "      <td>1992</td>\n",
       "      <td>6.2</td>\n",
       "      <td>10421.0</td>\n",
       "      <td>['adventure' 'biography' 'drama' 'history']</td>\n",
       "      <td>[adventure, drama]</td>\n",
       "      <td>adventure</td>\n",
       "      <td>__label__2</td>\n",
       "    </tr>\n",
       "    <tr>\n",
       "      <th>1</th>\n",
       "      <td>m1</td>\n",
       "      <td>1492: conquest of paradise</td>\n",
       "      <td>1992</td>\n",
       "      <td>6.2</td>\n",
       "      <td>10421.0</td>\n",
       "      <td>['adventure' 'biography' 'drama' 'history']</td>\n",
       "      <td>[adventure, drama]</td>\n",
       "      <td>drama</td>\n",
       "      <td>__label__3</td>\n",
       "    </tr>\n",
       "    <tr>\n",
       "      <th>2</th>\n",
       "      <td>m2</td>\n",
       "      <td>15 minutes</td>\n",
       "      <td>2001</td>\n",
       "      <td>6.1</td>\n",
       "      <td>25854.0</td>\n",
       "      <td>['action' 'crime' 'drama' 'thriller']</td>\n",
       "      <td>[action, crime, drama, thriller]</td>\n",
       "      <td>action</td>\n",
       "      <td>__label__4</td>\n",
       "    </tr>\n",
       "  </tbody>\n",
       "</table>\n",
       "</div>"
      ],
      "text/plain": [
       "  movieID                       movie  year  rating    votes  \\\n",
       "0      m0  10 things i hate about you  1999     6.9  62847.0   \n",
       "0      m0  10 things i hate about you  1999     6.9  62847.0   \n",
       "1      m1  1492: conquest of paradise  1992     6.2  10421.0   \n",
       "1      m1  1492: conquest of paradise  1992     6.2  10421.0   \n",
       "2      m2                  15 minutes  2001     6.1  25854.0   \n",
       "\n",
       "                                        genres  \\\n",
       "0                         ['comedy' 'romance']   \n",
       "0                         ['comedy' 'romance']   \n",
       "1  ['adventure' 'biography' 'drama' 'history']   \n",
       "1  ['adventure' 'biography' 'drama' 'history']   \n",
       "2        ['action' 'crime' 'drama' 'thriller']   \n",
       "\n",
       "                  genres_collection single_genre genres_label  \n",
       "0                 [comedy, romance]       comedy   __label__0  \n",
       "0                 [comedy, romance]      romance   __label__1  \n",
       "1                [adventure, drama]    adventure   __label__2  \n",
       "1                [adventure, drama]        drama   __label__3  \n",
       "2  [action, crime, drama, thriller]       action   __label__4  "
      ]
     },
     "execution_count": 271,
     "metadata": {},
     "output_type": "execute_result"
    }
   ],
   "source": [
    "df_usebygenre.head()"
   ]
  },
  {
   "cell_type": "code",
   "execution_count": 272,
   "metadata": {},
   "outputs": [],
   "source": [
    "df_set_unpivot = df_usebygenre[[\"genres_label\", \"movieID\"]].merge(df_lines[[\"movieID\", \"text\"]], on=\"movieID\", how=\"inner\")"
   ]
  },
  {
   "cell_type": "code",
   "execution_count": 273,
   "metadata": {},
   "outputs": [],
   "source": [
    "del df_set_unpivot[\"movieID\"]"
   ]
  },
  {
   "cell_type": "code",
   "execution_count": 274,
   "metadata": {},
   "outputs": [
    {
     "data": {
      "text/html": [
       "<div>\n",
       "<style scoped>\n",
       "    .dataframe tbody tr th:only-of-type {\n",
       "        vertical-align: middle;\n",
       "    }\n",
       "\n",
       "    .dataframe tbody tr th {\n",
       "        vertical-align: top;\n",
       "    }\n",
       "\n",
       "    .dataframe thead th {\n",
       "        text-align: right;\n",
       "    }\n",
       "</style>\n",
       "<table border=\"1\" class=\"dataframe\">\n",
       "  <thead>\n",
       "    <tr style=\"text-align: right;\">\n",
       "      <th></th>\n",
       "      <th>genres_label</th>\n",
       "      <th>text</th>\n",
       "    </tr>\n",
       "  </thead>\n",
       "  <tbody>\n",
       "    <tr>\n",
       "      <th>225910</th>\n",
       "      <td>__label__3</td>\n",
       "      <td>Good Lord!</td>\n",
       "    </tr>\n",
       "    <tr>\n",
       "      <th>371504</th>\n",
       "      <td>__label__7</td>\n",
       "      <td>What's your point Dude?</td>\n",
       "    </tr>\n",
       "    <tr>\n",
       "      <th>238940</th>\n",
       "      <td>__label__7</td>\n",
       "      <td>He's telling you the truth Edgar. Whoever it w...</td>\n",
       "    </tr>\n",
       "    <tr>\n",
       "      <th>335591</th>\n",
       "      <td>__label__1</td>\n",
       "      <td>That's amazing. I-I-I... I've been goin' for f...</td>\n",
       "    </tr>\n",
       "    <tr>\n",
       "      <th>387221</th>\n",
       "      <td>__label__7</td>\n",
       "      <td>Sir...</td>\n",
       "    </tr>\n",
       "    <tr>\n",
       "      <th>539448</th>\n",
       "      <td>__label__10</td>\n",
       "      <td>My vacation is over in a week.</td>\n",
       "    </tr>\n",
       "    <tr>\n",
       "      <th>287925</th>\n",
       "      <td>__label__9</td>\n",
       "      <td>Give me a hand with this sack of shit.</td>\n",
       "    </tr>\n",
       "    <tr>\n",
       "      <th>112259</th>\n",
       "      <td>__label__0</td>\n",
       "      <td>You're taking Mom out tonight?</td>\n",
       "    </tr>\n",
       "    <tr>\n",
       "      <th>317493</th>\n",
       "      <td>__label__3</td>\n",
       "      <td>No. I guess you're here for the backpack.</td>\n",
       "    </tr>\n",
       "    <tr>\n",
       "      <th>166456</th>\n",
       "      <td>__label__6</td>\n",
       "      <td>Why would anyone do something like this?</td>\n",
       "    </tr>\n",
       "  </tbody>\n",
       "</table>\n",
       "</div>"
      ],
      "text/plain": [
       "       genres_label                                               text\n",
       "225910   __label__3                                         Good Lord!\n",
       "371504   __label__7                            What's your point Dude?\n",
       "238940   __label__7  He's telling you the truth Edgar. Whoever it w...\n",
       "335591   __label__1  That's amazing. I-I-I... I've been goin' for f...\n",
       "387221   __label__7                                             Sir...\n",
       "539448  __label__10                     My vacation is over in a week.\n",
       "287925   __label__9             Give me a hand with this sack of shit.\n",
       "112259   __label__0                     You're taking Mom out tonight?\n",
       "317493   __label__3          No. I guess you're here for the backpack.\n",
       "166456   __label__6           Why would anyone do something like this?"
      ]
     },
     "execution_count": 274,
     "metadata": {},
     "output_type": "execute_result"
    }
   ],
   "source": [
    "df_set_unpivot.iloc[np.random.choice(df_set_unpivot.shape[0], 10)]"
   ]
  },
  {
   "cell_type": "code",
   "execution_count": 275,
   "metadata": {},
   "outputs": [
    {
     "data": {
      "text/plain": [
       "(786887, 2)"
      ]
     },
     "execution_count": 275,
     "metadata": {},
     "output_type": "execute_result"
    }
   ],
   "source": [
    "df_set_unpivot.shape"
   ]
  },
  {
   "cell_type": "code",
   "execution_count": 243,
   "metadata": {},
   "outputs": [],
   "source": [
    "import csv"
   ]
  },
  {
   "cell_type": "code",
   "execution_count": 338,
   "metadata": {},
   "outputs": [],
   "source": [
    "train_ratio = 0.8 \n",
    "df = _df_set\n",
    "train_idx = np.random.choice(df.shape[0], int(train_ratio * df.shape[0]), replace=False)\n",
    "test_idx = np.delete(np.arange(df.shape[0]), train_idx)\n",
    "\n",
    "df.iloc[train_idx].to_csv(\"data/movielines.train\", header=None, index=False, sep=\"~\")\n",
    "df.iloc[test_idx].to_csv(\"data/movielines.test\", header=None, index=False, sep=\"~\")"
   ]
  },
  {
   "cell_type": "code",
   "execution_count": 228,
   "metadata": {},
   "outputs": [
    {
     "data": {
      "text/plain": [
       "288353"
      ]
     },
     "execution_count": 228,
     "metadata": {},
     "output_type": "execute_result"
    }
   ],
   "source": [
    "np.delete(np.arange(df_set.shape[0]), train_idx).shape[0] + train_idx.shape[0]"
   ]
  },
  {
   "cell_type": "code",
   "execution_count": null,
   "metadata": {},
   "outputs": [],
   "source": []
  },
  {
   "cell_type": "markdown",
   "metadata": {},
   "source": [
    "## Training Testing"
   ]
  },
  {
   "cell_type": "code",
   "execution_count": 286,
   "metadata": {},
   "outputs": [],
   "source": [
    "import fastText"
   ]
  },
  {
   "cell_type": "code",
   "execution_count": 287,
   "metadata": {},
   "outputs": [],
   "source": [
    "import os"
   ]
  },
  {
   "cell_type": "code",
   "execution_count": 288,
   "metadata": {},
   "outputs": [],
   "source": [
    "train_data = \"data/train.csv\"\n",
    "test_data = \"data/test.csv\""
   ]
  },
  {
   "cell_type": "markdown",
   "metadata": {},
   "source": [
    "## You just have to use the train and test data i uploaded & install fastText through `pip`"
   ]
  },
  {
   "cell_type": "code",
   "execution_count": 382,
   "metadata": {},
   "outputs": [],
   "source": [
    "model = fastText.train_supervised(\n",
    "    input=train_data, epoch=50, lr=1.0, wordNgrams=3, verbose=2, minCount=1, thread=4)"
   ]
  },
  {
   "cell_type": "code",
   "execution_count": 293,
   "metadata": {},
   "outputs": [],
   "source": [
    "def print_results(N, p, r):\n",
    "    print(\"N\\t\" + str(N))\n",
    "    print(\"P@{}\\t{:.3f}\".format(1, p))\n",
    "    print(\"R@{}\\t{:.3f}\".format(1, r))"
   ]
  },
  {
   "cell_type": "code",
   "execution_count": 376,
   "metadata": {},
   "outputs": [
    {
     "name": "stdout",
     "output_type": "stream",
     "text": [
      "N\t57297\n",
      "P@1\t0.243\n",
      "R@1\t0.243\n"
     ]
    }
   ],
   "source": [
    "print_results(*model.test(test_data))"
   ]
  },
  {
   "cell_type": "code",
   "execution_count": 350,
   "metadata": {},
   "outputs": [],
   "source": [
    "df_test = pd.read_csv(test_data, header=None, names=[\"label\", \"text\"])"
   ]
  },
  {
   "cell_type": "code",
   "execution_count": 351,
   "metadata": {},
   "outputs": [
    {
     "data": {
      "text/html": [
       "<div>\n",
       "<style scoped>\n",
       "    .dataframe tbody tr th:only-of-type {\n",
       "        vertical-align: middle;\n",
       "    }\n",
       "\n",
       "    .dataframe tbody tr th {\n",
       "        vertical-align: top;\n",
       "    }\n",
       "\n",
       "    .dataframe thead th {\n",
       "        text-align: right;\n",
       "    }\n",
       "</style>\n",
       "<table border=\"1\" class=\"dataframe\">\n",
       "  <thead>\n",
       "    <tr style=\"text-align: right;\">\n",
       "      <th></th>\n",
       "      <th>label</th>\n",
       "      <th>text</th>\n",
       "    </tr>\n",
       "  </thead>\n",
       "  <tbody>\n",
       "    <tr>\n",
       "      <th>0</th>\n",
       "      <td>__label__4</td>\n",
       "      <td>it doesnt matter who you were before its who ...</td>\n",
       "    </tr>\n",
       "    <tr>\n",
       "      <th>1</th>\n",
       "      <td>__label__10</td>\n",
       "      <td>did you see jack ?</td>\n",
       "    </tr>\n",
       "    <tr>\n",
       "      <th>2</th>\n",
       "      <td>__label__2</td>\n",
       "      <td>the moons not down yet</td>\n",
       "    </tr>\n",
       "    <tr>\n",
       "      <th>3</th>\n",
       "      <td>__label__4</td>\n",
       "      <td>but it was a whole lot of killing why should ...</td>\n",
       "    </tr>\n",
       "    <tr>\n",
       "      <th>4</th>\n",
       "      <td>__label__8</td>\n",
       "      <td>so hows tricks ? sorry occupational humor</td>\n",
       "    </tr>\n",
       "  </tbody>\n",
       "</table>\n",
       "</div>"
      ],
      "text/plain": [
       "          label                                               text\n",
       "0   __label__4    it doesnt matter who you were before its who ...\n",
       "1  __label__10                                 did you see jack ? \n",
       "2   __label__2                              the moons not down yet\n",
       "3   __label__4    but it was a whole lot of killing why should ...\n",
       "4   __label__8           so hows tricks ? sorry occupational humor"
      ]
     },
     "execution_count": 351,
     "metadata": {},
     "output_type": "execute_result"
    }
   ],
   "source": [
    "df_test.head()"
   ]
  },
  {
   "cell_type": "markdown",
   "metadata": {},
   "source": [
    "## Calculate accuracy using test set"
   ]
  },
  {
   "cell_type": "code",
   "execution_count": 349,
   "metadata": {},
   "outputs": [
    {
     "data": {
      "text/plain": [
       "(('__label__4',), array([0.97308511]))"
      ]
     },
     "execution_count": 349,
     "metadata": {},
     "output_type": "execute_result"
    }
   ],
   "source": [
    "results = []\n",
    "for text in df_test[\"text\"]:\n",
    "    results.append(model.predict(text)[0][0])\n",
    "hit = 0\n",
    "for i, pred in enumerate(results):\n",
    "    if pred == df_test[\"label\"][i]:\n",
    "        hit += 1\n",
    "print(hit/df_test.shape[0])"
   ]
  },
  {
   "cell_type": "markdown",
   "metadata": {},
   "source": [
    "## How to use this"
   ]
  },
  {
   "cell_type": "code",
   "execution_count": 364,
   "metadata": {},
   "outputs": [
    {
     "data": {
      "text/plain": [
       "'crime'"
      ]
     },
     "execution_count": 364,
     "metadata": {},
     "output_type": "execute_result"
    }
   ],
   "source": [
    "genre_map[int(model.predict(\"who is the real tyler durden\")[0][0][9:])]"
   ]
  },
  {
   "cell_type": "code",
   "execution_count": 365,
   "metadata": {},
   "outputs": [
    {
     "data": {
      "text/plain": [
       "'adventure'"
      ]
     },
     "execution_count": 365,
     "metadata": {},
     "output_type": "execute_result"
    }
   ],
   "source": [
    "genre_map[int(model.predict(\"you shall not pass\")[0][0][9:])]"
   ]
  },
  {
   "cell_type": "code",
   "execution_count": 367,
   "metadata": {},
   "outputs": [
    {
     "data": {
      "text/plain": [
       "'drama'"
      ]
     },
     "execution_count": 367,
     "metadata": {},
     "output_type": "execute_result"
    }
   ],
   "source": [
    "genre_map[int(model.predict(\"i need a shower right now\")[0][0][9:])]"
   ]
  },
  {
   "cell_type": "code",
   "execution_count": 369,
   "metadata": {},
   "outputs": [
    {
     "data": {
      "text/plain": [
       "'drama'"
      ]
     },
     "execution_count": 369,
     "metadata": {},
     "output_type": "execute_result"
    }
   ],
   "source": [
    "genre_map[int(model.predict(\"my name is ani and i am a yuppie\")[0][0][9:])]"
   ]
  },
  {
   "cell_type": "code",
   "execution_count": 363,
   "metadata": {},
   "outputs": [
    {
     "data": {
      "text/plain": [
       "'horror'"
      ]
     },
     "execution_count": 363,
     "metadata": {},
     "output_type": "execute_result"
    }
   ],
   "source": [
    "genre_map[int(model.predict(\"the day abhijeet got his phd is the day nano-photons are declared to be physically translucent. science science science\")[0][0][9:])]"
   ]
  },
  {
   "cell_type": "code",
   "execution_count": 356,
   "metadata": {},
   "outputs": [
    {
     "data": {
      "text/plain": [
       "'drama'"
      ]
     },
     "execution_count": 356,
     "metadata": {},
     "output_type": "execute_result"
    }
   ],
   "source": [
    "genre_map[int(model.predict(\"this bitch whose name i forgot gave me a hard time\")[0][0][9:])]"
   ]
  },
  {
   "cell_type": "code",
   "execution_count": 357,
   "metadata": {},
   "outputs": [
    {
     "data": {
      "text/plain": [
       "'drama'"
      ]
     },
     "execution_count": 357,
     "metadata": {},
     "output_type": "execute_result"
    }
   ],
   "source": [
    "genre_map[int(model.predict(\"the white \")[0][0][9:])]"
   ]
  },
  {
   "cell_type": "code",
   "execution_count": null,
   "metadata": {},
   "outputs": [],
   "source": [
    "genre_map[int(model.predict(\"\")[0][0][9:])]"
   ]
  },
  {
   "cell_type": "code",
   "execution_count": 381,
   "metadata": {},
   "outputs": [
    {
     "ename": "NameError",
     "evalue": "name 'model' is not defined",
     "output_type": "error",
     "traceback": [
      "\u001b[0;31m---------------------------------------------------------------------------\u001b[0m",
      "\u001b[0;31mNameError\u001b[0m                                 Traceback (most recent call last)",
      "\u001b[0;32m<ipython-input-381-a7ab210f85a1>\u001b[0m in \u001b[0;36m<module>\u001b[0;34m()\u001b[0m\n\u001b[0;32m----> 1\u001b[0;31m \u001b[0;32mdel\u001b[0m \u001b[0mmodel\u001b[0m\u001b[0;34m\u001b[0m\u001b[0m\n\u001b[0m",
      "\u001b[0;31mNameError\u001b[0m: name 'model' is not defined"
     ]
    }
   ],
   "source": [
    "del model"
   ]
  }
 ],
 "metadata": {
  "kernelspec": {
   "display_name": "Python 3",
   "language": "python",
   "name": "python3"
  },
  "language_info": {
   "codemirror_mode": {
    "name": "ipython",
    "version": 3
   },
   "file_extension": ".py",
   "mimetype": "text/x-python",
   "name": "python",
   "nbconvert_exporter": "python",
   "pygments_lexer": "ipython3",
   "version": "3.6.5"
  }
 },
 "nbformat": 4,
 "nbformat_minor": 2
}
